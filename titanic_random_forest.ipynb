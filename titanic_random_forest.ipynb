{
 "cells": [
  {
   "cell_type": "markdown",
   "source": [
    "# Resolução Titanic com Random Forest\n",
    "\n",
    "Explicação em detalhes do código e as decisões tomadas em cada etapa:\n",
    "\n",
    "1.  Importar bibliotecas:"
   ],
   "metadata": {
    "collapsed": false
   }
  },
  {
   "cell_type": "code",
   "execution_count": 11,
   "outputs": [],
   "source": [
    "import pandas as pd\n",
    "from sklearn.model_selection import train_test_split\n",
    "from sklearn.ensemble import RandomForestClassifier\n",
    "from sklearn.metrics import accuracy_score"
   ],
   "metadata": {
    "collapsed": false,
    "ExecuteTime": {
     "end_time": "2023-06-06T03:16:18.803176900Z",
     "start_time": "2023-06-06T03:16:18.734177500Z"
    }
   }
  },
  {
   "cell_type": "markdown",
   "source": [
    "Essas bibliotecas são necessárias para carregar e manipular os dados, dividir os dados em conjuntos de treinamento e validação, criar e treinar o modelo Random Forest e avaliar a precisão do modelo.\n",
    "\n",
    "\n",
    "2.  Carregar os dados de treinamento e teste:"
   ],
   "metadata": {
    "collapsed": false
   }
  },
  {
   "cell_type": "code",
   "execution_count": 12,
   "outputs": [],
   "source": [
    "train_data = pd.read_csv('train.csv')\n",
    "test_data = pd.read_csv('test.csv')\n",
    "test_ids = test_data[\"PassengerId\"]"
   ],
   "metadata": {
    "collapsed": false,
    "ExecuteTime": {
     "end_time": "2023-06-06T03:16:18.848174900Z",
     "start_time": "2023-06-06T03:16:18.744175700Z"
    }
   }
  },
  {
   "cell_type": "markdown",
   "source": [
    "Essa parte do código lê os arquivos CSV do Titanic (train.csv e test.csv) e os armazena em dataframes (train_data e test_data) usando a biblioteca Pandas.\n",
    "Também criamos a variável \"test_ids\" para armazenar os IDs dos passageiros e podermos usar mais tarde, visto que a coluna \"PassengerId\" será \"dropada\" do dataset de teste.\n",
    "\n",
    "\n",
    "3.  Pré-processamento dos dados:"
   ],
   "metadata": {
    "collapsed": false
   }
  },
  {
   "cell_type": "code",
   "execution_count": 13,
   "outputs": [],
   "source": [
    "def preprocess_data(df):\n",
    "    # Preencher valores ausentes\n",
    "    df['Age'].fillna(df['Age'].median(), inplace=True)\n",
    "    df['Fare'].fillna(df['Fare'].median(), inplace=True)\n",
    "    df['Embarked'].fillna(df['Embarked'].mode()[0], inplace=True)\n",
    "\n",
    "    # Codificar variáveis categóricas\n",
    "    df = pd.get_dummies(df, columns=['Sex', 'Embarked'])\n",
    "\n",
    "    # Descartar colunas irrelevantes\n",
    "    df.drop(['PassengerId', 'Name', 'Ticket', 'Cabin'], axis=1, inplace=True)\n",
    "\n",
    "    return df\n",
    "\n",
    "# Pré-processar dados de treinamento e teste\n",
    "train_data = preprocess_data(train_data)\n",
    "test_data = preprocess_data(test_data)"
   ],
   "metadata": {
    "collapsed": false,
    "ExecuteTime": {
     "end_time": "2023-06-06T03:16:18.850176300Z",
     "start_time": "2023-06-06T03:16:18.784175600Z"
    }
   }
  },
  {
   "cell_type": "markdown",
   "source": [
    "Essa função de pré-processamento é aplicada tanto aos dados de treinamento quanto aos dados de teste. As seguintes etapas são realizadas:\n",
    "\n",
    "-   Preencher valores ausentes: O código preenche os valores ausentes na coluna 'Age' e 'Fare' com a mediana dos valores existentes. Na coluna 'Embarked', os valores ausentes são preenchidos com o valor mais frequente (o modo) da coluna.\n",
    "\n",
    "-   Codificar variáveis categóricas: O código utiliza a função `pd.get_dummies` para criar colunas dummy (binárias) para as variáveis categóricas 'Sex' e 'Embarked'. Isso é necessário porque a maioria dos algoritmos de aprendizado de máquina não podem lidar diretamente com variáveis categóricas. A codificação one-hot cria colunas separadas para cada categoria, indicando a presença ou ausência da categoria.\n",
    "\n",
    "-   Descartar colunas irrelevantes: O código remove as colunas 'PassengerId', 'Name', 'Ticket' e 'Cabin', que são consideradas irrelevantes para a previsão de sobrevivência.\n",
    "\n",
    "\n",
    "4.  Dividir dados de treinamento em recursos (X) e alvo (y):"
   ],
   "metadata": {
    "collapsed": false
   }
  },
  {
   "cell_type": "code",
   "execution_count": 14,
   "outputs": [],
   "source": [
    "X = train_data.drop('Survived', axis=1)\n",
    "y = train_data['Survived']"
   ],
   "metadata": {
    "collapsed": false,
    "ExecuteTime": {
     "end_time": "2023-06-06T03:16:18.850176300Z",
     "start_time": "2023-06-06T03:16:18.809177100Z"
    }
   }
  },
  {
   "cell_type": "markdown",
   "source": [
    "Nessa etapa, os dados de treinamento são divididos em recursos (X) e alvo (y), da mesma forma que no exemplo anterior. Os recursos são todas as colunas, exceto 'Survived', e o alvo é a coluna 'Survived', que indica se o passageiro sobreviveu ou não.\n",
    "\n",
    "\n",
    "5.  Dividir dados em conjunto de treinamento e conjunto de validação:"
   ],
   "metadata": {
    "collapsed": false
   }
  },
  {
   "cell_type": "code",
   "execution_count": 15,
   "outputs": [],
   "source": [
    "X_train, X_val, y_train, y_val = train_test_split(X, y, test_size=0.2, random_state=42)"
   ],
   "metadata": {
    "collapsed": false,
    "ExecuteTime": {
     "end_time": "2023-06-06T03:16:18.862177700Z",
     "start_time": "2023-06-06T03:16:18.828176200Z"
    }
   }
  },
  {
   "cell_type": "markdown",
   "source": [
    "Essa etapa divide os dados de treinamento em um conjunto de treinamento e um conjunto de validação para avaliar o desempenho do modelo, usando a função `train_test_split` do scikit-learn. A divisão é feita da mesma forma que no exemplo anterior, onde 80% dos dados são usados para treinamento e 20% para validação, com uma semente aleatória definida como 42 para garantir a reprodutibilidade.\n",
    "\n",
    "\n",
    "6.  Criar e treinar o modelo Random Forest:"
   ],
   "metadata": {
    "collapsed": false
   }
  },
  {
   "cell_type": "code",
   "execution_count": 16,
   "outputs": [
    {
     "data": {
      "text/plain": "RandomForestClassifier(random_state=42)",
      "text/html": "<style>#sk-container-id-2 {color: black;background-color: white;}#sk-container-id-2 pre{padding: 0;}#sk-container-id-2 div.sk-toggleable {background-color: white;}#sk-container-id-2 label.sk-toggleable__label {cursor: pointer;display: block;width: 100%;margin-bottom: 0;padding: 0.3em;box-sizing: border-box;text-align: center;}#sk-container-id-2 label.sk-toggleable__label-arrow:before {content: \"▸\";float: left;margin-right: 0.25em;color: #696969;}#sk-container-id-2 label.sk-toggleable__label-arrow:hover:before {color: black;}#sk-container-id-2 div.sk-estimator:hover label.sk-toggleable__label-arrow:before {color: black;}#sk-container-id-2 div.sk-toggleable__content {max-height: 0;max-width: 0;overflow: hidden;text-align: left;background-color: #f0f8ff;}#sk-container-id-2 div.sk-toggleable__content pre {margin: 0.2em;color: black;border-radius: 0.25em;background-color: #f0f8ff;}#sk-container-id-2 input.sk-toggleable__control:checked~div.sk-toggleable__content {max-height: 200px;max-width: 100%;overflow: auto;}#sk-container-id-2 input.sk-toggleable__control:checked~label.sk-toggleable__label-arrow:before {content: \"▾\";}#sk-container-id-2 div.sk-estimator input.sk-toggleable__control:checked~label.sk-toggleable__label {background-color: #d4ebff;}#sk-container-id-2 div.sk-label input.sk-toggleable__control:checked~label.sk-toggleable__label {background-color: #d4ebff;}#sk-container-id-2 input.sk-hidden--visually {border: 0;clip: rect(1px 1px 1px 1px);clip: rect(1px, 1px, 1px, 1px);height: 1px;margin: -1px;overflow: hidden;padding: 0;position: absolute;width: 1px;}#sk-container-id-2 div.sk-estimator {font-family: monospace;background-color: #f0f8ff;border: 1px dotted black;border-radius: 0.25em;box-sizing: border-box;margin-bottom: 0.5em;}#sk-container-id-2 div.sk-estimator:hover {background-color: #d4ebff;}#sk-container-id-2 div.sk-parallel-item::after {content: \"\";width: 100%;border-bottom: 1px solid gray;flex-grow: 1;}#sk-container-id-2 div.sk-label:hover label.sk-toggleable__label {background-color: #d4ebff;}#sk-container-id-2 div.sk-serial::before {content: \"\";position: absolute;border-left: 1px solid gray;box-sizing: border-box;top: 0;bottom: 0;left: 50%;z-index: 0;}#sk-container-id-2 div.sk-serial {display: flex;flex-direction: column;align-items: center;background-color: white;padding-right: 0.2em;padding-left: 0.2em;position: relative;}#sk-container-id-2 div.sk-item {position: relative;z-index: 1;}#sk-container-id-2 div.sk-parallel {display: flex;align-items: stretch;justify-content: center;background-color: white;position: relative;}#sk-container-id-2 div.sk-item::before, #sk-container-id-2 div.sk-parallel-item::before {content: \"\";position: absolute;border-left: 1px solid gray;box-sizing: border-box;top: 0;bottom: 0;left: 50%;z-index: -1;}#sk-container-id-2 div.sk-parallel-item {display: flex;flex-direction: column;z-index: 1;position: relative;background-color: white;}#sk-container-id-2 div.sk-parallel-item:first-child::after {align-self: flex-end;width: 50%;}#sk-container-id-2 div.sk-parallel-item:last-child::after {align-self: flex-start;width: 50%;}#sk-container-id-2 div.sk-parallel-item:only-child::after {width: 0;}#sk-container-id-2 div.sk-dashed-wrapped {border: 1px dashed gray;margin: 0 0.4em 0.5em 0.4em;box-sizing: border-box;padding-bottom: 0.4em;background-color: white;}#sk-container-id-2 div.sk-label label {font-family: monospace;font-weight: bold;display: inline-block;line-height: 1.2em;}#sk-container-id-2 div.sk-label-container {text-align: center;}#sk-container-id-2 div.sk-container {/* jupyter's `normalize.less` sets `[hidden] { display: none; }` but bootstrap.min.css set `[hidden] { display: none !important; }` so we also need the `!important` here to be able to override the default hidden behavior on the sphinx rendered scikit-learn.org. See: https://github.com/scikit-learn/scikit-learn/issues/21755 */display: inline-block !important;position: relative;}#sk-container-id-2 div.sk-text-repr-fallback {display: none;}</style><div id=\"sk-container-id-2\" class=\"sk-top-container\"><div class=\"sk-text-repr-fallback\"><pre>RandomForestClassifier(random_state=42)</pre><b>In a Jupyter environment, please rerun this cell to show the HTML representation or trust the notebook. <br />On GitHub, the HTML representation is unable to render, please try loading this page with nbviewer.org.</b></div><div class=\"sk-container\" hidden><div class=\"sk-item\"><div class=\"sk-estimator sk-toggleable\"><input class=\"sk-toggleable__control sk-hidden--visually\" id=\"sk-estimator-id-2\" type=\"checkbox\" checked><label for=\"sk-estimator-id-2\" class=\"sk-toggleable__label sk-toggleable__label-arrow\">RandomForestClassifier</label><div class=\"sk-toggleable__content\"><pre>RandomForestClassifier(random_state=42)</pre></div></div></div></div></div>"
     },
     "execution_count": 16,
     "metadata": {},
     "output_type": "execute_result"
    }
   ],
   "source": [
    "model = RandomForestClassifier(n_estimators=100, random_state=42)\n",
    "model.fit(X_train, y_train)"
   ],
   "metadata": {
    "collapsed": false,
    "ExecuteTime": {
     "end_time": "2023-06-06T03:16:19.099321500Z",
     "start_time": "2023-06-06T03:16:18.854180500Z"
    }
   }
  },
  {
   "cell_type": "markdown",
   "source": [
    "Nessa etapa, um objeto `RandomForestClassifier` é criado e treinado usando os conjuntos de treinamento. O modelo Random Forest é escolhido como o algoritmo de aprendizado de máquina neste exemplo. O parâmetro `n_estimators` define o número de árvores no modelo (definido como 100 neste caso). O parâmetro `random_state` define uma semente aleatória para garantir a reprodutibilidade.\n",
    "\n",
    "\n",
    "7.  Fazer previsões no conjunto de validação e avaliar a precisão do modelo:"
   ],
   "metadata": {
    "collapsed": false
   }
  },
  {
   "cell_type": "code",
   "execution_count": 17,
   "outputs": [
    {
     "name": "stdout",
     "output_type": "stream",
     "text": [
      "Acurácia do modelo: 0.8044692737430168\n"
     ]
    }
   ],
   "source": [
    "y_pred = model.predict(X_val)\n",
    "accuracy = accuracy_score(y_val, y_pred)\n",
    "print(f\"Acurácia do modelo: {accuracy}\")"
   ],
   "metadata": {
    "collapsed": false,
    "ExecuteTime": {
     "end_time": "2023-06-06T03:16:19.141319800Z",
     "start_time": "2023-06-06T03:16:19.100321300Z"
    }
   }
  },
  {
   "cell_type": "markdown",
   "source": [
    "Nessa etapa, o modelo treinado é usado para fazer previsões no conjunto de validação (`X_val`). As previsões resultantes são comparadas com os rótulos reais (`y_val`) para calcular a acurácia do modelo. A acurácia é uma métrica comum usada para avaliar o desempenho de modelos de classificação e representa a porcentagem de previsões corretas em relação ao total de previsões.\n",
    "\n",
    "\n",
    "8.  Fazer previsões nos dados de teste:"
   ],
   "metadata": {
    "collapsed": false
   }
  },
  {
   "cell_type": "code",
   "execution_count": 18,
   "outputs": [],
   "source": [
    "test_pred = model.predict(test_data)"
   ],
   "metadata": {
    "collapsed": false,
    "ExecuteTime": {
     "end_time": "2023-06-06T03:16:19.243320500Z",
     "start_time": "2023-06-06T03:16:19.138321500Z"
    }
   }
  },
  {
   "cell_type": "markdown",
   "source": [
    "Após treinar e avaliar o modelo, é hora de usá-lo para fazer previsões nos dados de teste (`test_data`). Essas previsões serão usadas para criar o arquivo de submissão final.\n",
    "\n",
    "\n",
    "9.  Criar DataFrame com as previsões e salvar em arquivo CSV:"
   ],
   "metadata": {
    "collapsed": false
   }
  },
  {
   "cell_type": "code",
   "execution_count": 19,
   "outputs": [],
   "source": [
    "submission = pd.DataFrame({\n",
    "    'PassengerId': test_ids.values,\n",
    "    'Survived': test_pred\n",
    "})\n",
    "submission.to_csv('submission_2.csv', index=False)"
   ],
   "metadata": {
    "collapsed": false,
    "ExecuteTime": {
     "end_time": "2023-06-06T03:16:19.261320100Z",
     "start_time": "2023-06-06T03:16:19.247320800Z"
    }
   }
  },
  {
   "cell_type": "markdown",
   "source": [
    "Nessa etapa, é criado um DataFrame chamado `submission` contendo as previsões feitas pelo modelo nos dados de teste. O DataFrame possui duas colunas: 'PassengerId', que contém os IDs dos passageiros, e 'Survived', que contém as previsões de sobrevivência para cada passageiro. Em seguida, o DataFrame é salvo em um arquivo CSV chamado 'submission.csv' para ser submetido no Kaggle.\n",
    "\n",
    "Essas são as principais etapas do código usando o método Random Forest no problema do Titanic. O Random Forest é um algoritmo de aprendizado de máquina poderoso que utiliza um conjunto de árvores de decisão para realizar previsões. Ele é capaz de capturar relações complexas nos dados e geralmente produz bons resultados em problemas de classificação."
   ],
   "metadata": {
    "collapsed": false
   }
  },
  {
   "cell_type": "code",
   "execution_count": 19,
   "outputs": [],
   "source": [],
   "metadata": {
    "collapsed": false,
    "ExecuteTime": {
     "end_time": "2023-06-06T03:16:19.274318600Z",
     "start_time": "2023-06-06T03:16:19.264321500Z"
    }
   }
  }
 ],
 "metadata": {
  "kernelspec": {
   "display_name": "Python 3",
   "language": "python",
   "name": "python3"
  },
  "language_info": {
   "codemirror_mode": {
    "name": "ipython",
    "version": 2
   },
   "file_extension": ".py",
   "mimetype": "text/x-python",
   "name": "python",
   "nbconvert_exporter": "python",
   "pygments_lexer": "ipython2",
   "version": "2.7.6"
  }
 },
 "nbformat": 4,
 "nbformat_minor": 0
}
