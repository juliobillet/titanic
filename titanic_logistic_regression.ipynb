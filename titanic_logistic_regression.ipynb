{
 "cells": [
  {
   "cell_type": "markdown",
   "source": [
    "# Resolução Titanic com Regressão Logística\n",
    "\n",
    "Com explicação em detalhes do código e as decisões tomadas em cada etapa:\n",
    "\n",
    "1.  Importar bibliotecas:"
   ],
   "metadata": {
    "collapsed": false
   }
  },
  {
   "cell_type": "code",
   "execution_count": 29,
   "outputs": [],
   "source": [
    "import pandas as pd\n",
    "from sklearn.model_selection import train_test_split\n",
    "from sklearn.linear_model import LogisticRegression\n",
    "from sklearn.metrics import accuracy_score"
   ],
   "metadata": {
    "collapsed": false,
    "ExecuteTime": {
     "end_time": "2023-06-06T03:16:10.524054500Z",
     "start_time": "2023-06-06T03:16:10.426018300Z"
    }
   }
  },
  {
   "cell_type": "markdown",
   "source": [
    "Essas bibliotecas são necessárias para carregar e manipular os dados, dividir os dados em conjuntos de treinamento e validação, criar e treinar o modelo de Regressão Logística e avaliar a precisão do modelo.\n",
    "\n",
    "\n",
    "2.  Carregar os dados de treinamento e teste:\n"
   ],
   "metadata": {
    "collapsed": false
   }
  },
  {
   "cell_type": "code",
   "execution_count": 30,
   "outputs": [],
   "source": [
    "train_data = pd.read_csv('train.csv')\n",
    "test_data = pd.read_csv('test.csv')\n",
    "test_ids = test_data[\"PassengerId\"]"
   ],
   "metadata": {
    "collapsed": false,
    "ExecuteTime": {
     "end_time": "2023-06-06T03:16:10.603016400Z",
     "start_time": "2023-06-06T03:16:10.435017600Z"
    }
   }
  },
  {
   "cell_type": "markdown",
   "source": [
    "Essa parte do código lê os arquivos CSV do Titanic (train.csv e test.csv) e os armazena em dataframes (train_data e test_data) usando a biblioteca Pandas.\n",
    "Também criamos a variável \"test_ids\" para armazenar os IDs dos passageiros e podermos usar mais tarde, visto que a coluna \"PassengerId\" será \"dropada\" do dataset de teste.\n",
    "\n",
    "\n",
    "3.  Pré-processamento dos dados:"
   ],
   "metadata": {
    "collapsed": false
   }
  },
  {
   "cell_type": "code",
   "execution_count": 31,
   "outputs": [],
   "source": [
    "def preprocess_data(df):\n",
    "    # Preencher valores ausentes\n",
    "    df['Age'].fillna(df['Age'].median(), inplace=True)\n",
    "    df['Fare'].fillna(df['Fare'].median(), inplace=True)\n",
    "    df['Embarked'].fillna(df['Embarked'].mode()[0], inplace=True)\n",
    "\n",
    "    # Codificar variáveis categóricas\n",
    "    df = pd.get_dummies(df, columns=['Sex', 'Embarked'])\n",
    "\n",
    "    # Descartar colunas irrelevantes\n",
    "    df.drop(['PassengerId', 'Name', 'Ticket', 'Cabin'], axis=1, inplace=True)\n",
    "\n",
    "    return df\n",
    "\n",
    "\n",
    "# Pré-processar dados de treinamento e teste\n",
    "train_data = preprocess_data(train_data)\n",
    "test_data = preprocess_data(test_data)"
   ],
   "metadata": {
    "collapsed": false,
    "ExecuteTime": {
     "end_time": "2023-06-06T03:16:10.616016700Z",
     "start_time": "2023-06-06T03:16:10.470018500Z"
    }
   }
  },
  {
   "cell_type": "markdown",
   "source": [
    "Essa função de pré-processamento é aplicada tanto aos dados de treinamento quanto aos dados de teste. As seguintes etapas são realizadas:\n",
    "\n",
    "-   Preencher valores ausentes: O código preenche os valores ausentes na coluna 'Age' e 'Fare' com a mediana dos valores existentes. Na coluna 'Embarked', os valores ausentes são preenchidos com o valor mais frequente (o modo) da coluna.\n",
    "\n",
    "-   Codificar variáveis categóricas: O código utiliza a função `pd.get_dummies` para criar colunas dummy (binárias) para as variáveis categóricas 'Sex' e 'Embarked'. Isso é necessário porque a maioria dos algoritmos de aprendizado de máquina não podem lidar diretamente com variáveis categóricas. A codificação one-hot cria colunas separadas para cada categoria, indicando a presença ou ausência da categoria.\n",
    "\n",
    "-   Descartar colunas irrelevantes: O código remove as colunas 'PassengerId', 'Name', 'Ticket' e 'Cabin', que são consideradas irrelevantes para a previsão de sobrevivência.\n",
    "\n",
    "\n",
    "4.  Dividir dados de treinamento em recursos (X) e alvo (y):"
   ],
   "metadata": {
    "collapsed": false
   }
  },
  {
   "cell_type": "code",
   "execution_count": 32,
   "outputs": [],
   "source": [
    "X = train_data.drop('Survived', axis=1)\n",
    "y = train_data['Survived']"
   ],
   "metadata": {
    "collapsed": false,
    "ExecuteTime": {
     "end_time": "2023-06-06T03:16:10.617018100Z",
     "start_time": "2023-06-06T03:16:10.500019500Z"
    }
   }
  },
  {
   "cell_type": "markdown",
   "source": [
    "Nessa etapa, os dados de treinamento são divididos em recursos (X) e alvo (y). Os recursos são todas as colunas, exceto 'Survived', e o alvo é a coluna 'Survived' que indica se o passageiro sobreviveu ou não.\n",
    "\n",
    "\n",
    "5.  Dividir dados em conjunto de treinamento e conjunto de validação:"
   ],
   "metadata": {
    "collapsed": false
   }
  },
  {
   "cell_type": "code",
   "execution_count": 33,
   "outputs": [],
   "source": [
    "X_train, X_val, y_train, y_val = train_test_split(X, y, test_size=0.2, random_state=42)"
   ],
   "metadata": {
    "collapsed": false,
    "ExecuteTime": {
     "end_time": "2023-06-06T03:16:10.618019500Z",
     "start_time": "2023-06-06T03:16:10.515017500Z"
    }
   }
  },
  {
   "cell_type": "markdown",
   "source": [
    "Nessa etapa, os dados de treinamento são divididos em um conjunto de treinamento e um conjunto de validação para avaliar o desempenho do modelo.\n",
    "\n",
    "-   `X_train` e `y_train` são os conjuntos de treinamento que serão usados para treinar o modelo.\n",
    "-   `X_val` e `y_val` são os conjuntos de validação que serão usados para avaliar o desempenho do modelo.\n",
    "\n",
    "O parâmetro `test_size=0.2` indica que 20% dos dados serão usados para validação, enquanto 80% serão usados para treinamento. O parâmetro `random_state=42` define uma semente aleatória para garantir que a divisão dos dados seja reproduzível.\n",
    "\n",
    "\n",
    "6.  Criar e treinar o modelo de Regressão Logística:"
   ],
   "metadata": {
    "collapsed": false
   }
  },
  {
   "cell_type": "code",
   "execution_count": 34,
   "outputs": [
    {
     "data": {
      "text/plain": "LogisticRegression(max_iter=1000, random_state=0)",
      "text/html": "<style>#sk-container-id-4 {color: black;background-color: white;}#sk-container-id-4 pre{padding: 0;}#sk-container-id-4 div.sk-toggleable {background-color: white;}#sk-container-id-4 label.sk-toggleable__label {cursor: pointer;display: block;width: 100%;margin-bottom: 0;padding: 0.3em;box-sizing: border-box;text-align: center;}#sk-container-id-4 label.sk-toggleable__label-arrow:before {content: \"▸\";float: left;margin-right: 0.25em;color: #696969;}#sk-container-id-4 label.sk-toggleable__label-arrow:hover:before {color: black;}#sk-container-id-4 div.sk-estimator:hover label.sk-toggleable__label-arrow:before {color: black;}#sk-container-id-4 div.sk-toggleable__content {max-height: 0;max-width: 0;overflow: hidden;text-align: left;background-color: #f0f8ff;}#sk-container-id-4 div.sk-toggleable__content pre {margin: 0.2em;color: black;border-radius: 0.25em;background-color: #f0f8ff;}#sk-container-id-4 input.sk-toggleable__control:checked~div.sk-toggleable__content {max-height: 200px;max-width: 100%;overflow: auto;}#sk-container-id-4 input.sk-toggleable__control:checked~label.sk-toggleable__label-arrow:before {content: \"▾\";}#sk-container-id-4 div.sk-estimator input.sk-toggleable__control:checked~label.sk-toggleable__label {background-color: #d4ebff;}#sk-container-id-4 div.sk-label input.sk-toggleable__control:checked~label.sk-toggleable__label {background-color: #d4ebff;}#sk-container-id-4 input.sk-hidden--visually {border: 0;clip: rect(1px 1px 1px 1px);clip: rect(1px, 1px, 1px, 1px);height: 1px;margin: -1px;overflow: hidden;padding: 0;position: absolute;width: 1px;}#sk-container-id-4 div.sk-estimator {font-family: monospace;background-color: #f0f8ff;border: 1px dotted black;border-radius: 0.25em;box-sizing: border-box;margin-bottom: 0.5em;}#sk-container-id-4 div.sk-estimator:hover {background-color: #d4ebff;}#sk-container-id-4 div.sk-parallel-item::after {content: \"\";width: 100%;border-bottom: 1px solid gray;flex-grow: 1;}#sk-container-id-4 div.sk-label:hover label.sk-toggleable__label {background-color: #d4ebff;}#sk-container-id-4 div.sk-serial::before {content: \"\";position: absolute;border-left: 1px solid gray;box-sizing: border-box;top: 0;bottom: 0;left: 50%;z-index: 0;}#sk-container-id-4 div.sk-serial {display: flex;flex-direction: column;align-items: center;background-color: white;padding-right: 0.2em;padding-left: 0.2em;position: relative;}#sk-container-id-4 div.sk-item {position: relative;z-index: 1;}#sk-container-id-4 div.sk-parallel {display: flex;align-items: stretch;justify-content: center;background-color: white;position: relative;}#sk-container-id-4 div.sk-item::before, #sk-container-id-4 div.sk-parallel-item::before {content: \"\";position: absolute;border-left: 1px solid gray;box-sizing: border-box;top: 0;bottom: 0;left: 50%;z-index: -1;}#sk-container-id-4 div.sk-parallel-item {display: flex;flex-direction: column;z-index: 1;position: relative;background-color: white;}#sk-container-id-4 div.sk-parallel-item:first-child::after {align-self: flex-end;width: 50%;}#sk-container-id-4 div.sk-parallel-item:last-child::after {align-self: flex-start;width: 50%;}#sk-container-id-4 div.sk-parallel-item:only-child::after {width: 0;}#sk-container-id-4 div.sk-dashed-wrapped {border: 1px dashed gray;margin: 0 0.4em 0.5em 0.4em;box-sizing: border-box;padding-bottom: 0.4em;background-color: white;}#sk-container-id-4 div.sk-label label {font-family: monospace;font-weight: bold;display: inline-block;line-height: 1.2em;}#sk-container-id-4 div.sk-label-container {text-align: center;}#sk-container-id-4 div.sk-container {/* jupyter's `normalize.less` sets `[hidden] { display: none; }` but bootstrap.min.css set `[hidden] { display: none !important; }` so we also need the `!important` here to be able to override the default hidden behavior on the sphinx rendered scikit-learn.org. See: https://github.com/scikit-learn/scikit-learn/issues/21755 */display: inline-block !important;position: relative;}#sk-container-id-4 div.sk-text-repr-fallback {display: none;}</style><div id=\"sk-container-id-4\" class=\"sk-top-container\"><div class=\"sk-text-repr-fallback\"><pre>LogisticRegression(max_iter=1000, random_state=0)</pre><b>In a Jupyter environment, please rerun this cell to show the HTML representation or trust the notebook. <br />On GitHub, the HTML representation is unable to render, please try loading this page with nbviewer.org.</b></div><div class=\"sk-container\" hidden><div class=\"sk-item\"><div class=\"sk-estimator sk-toggleable\"><input class=\"sk-toggleable__control sk-hidden--visually\" id=\"sk-estimator-id-4\" type=\"checkbox\" checked><label for=\"sk-estimator-id-4\" class=\"sk-toggleable__label sk-toggleable__label-arrow\">LogisticRegression</label><div class=\"sk-toggleable__content\"><pre>LogisticRegression(max_iter=1000, random_state=0)</pre></div></div></div></div></div>"
     },
     "execution_count": 34,
     "metadata": {},
     "output_type": "execute_result"
    }
   ],
   "source": [
    "model = LogisticRegression(random_state=0, max_iter=1000)\n",
    "model.fit(X_train, y_train)"
   ],
   "metadata": {
    "collapsed": false,
    "ExecuteTime": {
     "end_time": "2023-06-06T03:16:10.718018200Z",
     "start_time": "2023-06-06T03:16:10.529019200Z"
    }
   }
  },
  {
   "cell_type": "markdown",
   "source": [
    "Nessa etapa, um objeto `LogisticRegression` é criado e treinado usando os conjuntos de treinamento. O modelo de Regressão Logística é escolhido como o algoritmo de aprendizado de máquina neste exemplo. Esse modelo é amplamente utilizado para problemas de classificação binária, como prever a sobrevivência no caso do Titanic.\n",
    "\n",
    "\n",
    "7.  Fazer previsões no conjunto de validação e avaliar a precisão do modelo:"
   ],
   "metadata": {
    "collapsed": false
   }
  },
  {
   "cell_type": "code",
   "execution_count": 35,
   "outputs": [
    {
     "name": "stdout",
     "output_type": "stream",
     "text": [
      "Acurácia do modelo: 0.8100558659217877\n"
     ]
    }
   ],
   "source": [
    "y_pred = model.predict(X_val)\n",
    "accuracy = accuracy_score(y_val, y_pred)\n",
    "print(f\"Acurácia do modelo: {accuracy}\")"
   ],
   "metadata": {
    "collapsed": false,
    "ExecuteTime": {
     "end_time": "2023-06-06T03:16:10.760019300Z",
     "start_time": "2023-06-06T03:16:10.723018600Z"
    }
   }
  },
  {
   "cell_type": "markdown",
   "source": [
    "Nessa etapa, o modelo treinado é usado para fazer previsões no conjunto de validação (`X_val`). As previsões resultantes são comparadas com os rótulos reais (`y_val`) para calcular a acurácia do modelo. A acurácia é uma métrica comum usada para avaliar o desempenho de modelos de classificação e representa a porcentagem de previsões corretas em relação ao total de previsões.\n",
    "\n",
    "\n",
    "8.  Fazer previsões nos dados de teste:"
   ],
   "metadata": {
    "collapsed": false
   }
  },
  {
   "cell_type": "code",
   "execution_count": 36,
   "outputs": [],
   "source": [
    "test_pred = model.predict(test_data)"
   ],
   "metadata": {
    "collapsed": false,
    "ExecuteTime": {
     "end_time": "2023-06-06T03:16:10.808018400Z",
     "start_time": "2023-06-06T03:16:10.763020900Z"
    }
   }
  },
  {
   "cell_type": "markdown",
   "source": [
    "Após treinar e avaliar o modelo, é hora de usá-lo para fazer previsões nos dados de teste (`test_data`).\n",
    "\n",
    "9.  Criar DataFrame com as previsões e salvar em arquivo CSV:"
   ],
   "metadata": {
    "collapsed": false
   }
  },
  {
   "cell_type": "code",
   "execution_count": 37,
   "outputs": [],
   "source": [
    "submission = pd.DataFrame({\n",
    "    'PassengerId': test_ids.values,\n",
    "    'Survived': test_pred\n",
    "})\n",
    "submission.to_csv('submission.csv', index=False)"
   ],
   "metadata": {
    "collapsed": false,
    "ExecuteTime": {
     "end_time": "2023-06-06T03:16:10.861019300Z",
     "start_time": "2023-06-06T03:16:10.802017Z"
    }
   }
  },
  {
   "cell_type": "markdown",
   "source": [
    "Nessa etapa, é criado um DataFrame chamado submission contendo as previsões feitas pelo modelo nos dados de teste. O DataFrame possui duas colunas: 'PassengerId', que contém os IDs dos passageiros, e 'Survived', que contém as previsões de sobrevivência para cada passageiro. Em seguida, o DataFrame é salvo em um arquivo CSV chamado 'submission.csv' para ser submetido no Kaggle.\n",
    "\n",
    "Essas são as principais etapas do código fornecido, que abrange desde o pré-processamento dos dados até a criação, treinamento e avaliação do modelo, bem como a geração das previsões finais e a criação do arquivo de submissão para o desafio do Titanic no Kaggle."
   ],
   "metadata": {
    "collapsed": false
   }
  },
  {
   "cell_type": "code",
   "execution_count": 37,
   "outputs": [],
   "source": [],
   "metadata": {
    "collapsed": false,
    "ExecuteTime": {
     "end_time": "2023-06-06T03:16:10.885018Z",
     "start_time": "2023-06-06T03:16:10.865018Z"
    }
   }
  }
 ],
 "metadata": {
  "kernelspec": {
   "display_name": "Python 3",
   "language": "python",
   "name": "python3"
  },
  "language_info": {
   "codemirror_mode": {
    "name": "ipython",
    "version": 2
   },
   "file_extension": ".py",
   "mimetype": "text/x-python",
   "name": "python",
   "nbconvert_exporter": "python",
   "pygments_lexer": "ipython2",
   "version": "2.7.6"
  }
 },
 "nbformat": 4,
 "nbformat_minor": 0
}
